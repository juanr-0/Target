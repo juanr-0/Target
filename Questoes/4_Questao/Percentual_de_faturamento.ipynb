{
  "nbformat": 4,
  "nbformat_minor": 0,
  "metadata": {
    "colab": {
      "provenance": []
    },
    "kernelspec": {
      "name": "python3",
      "display_name": "Python 3"
    },
    "language_info": {
      "name": "python"
    }
  },
  "cells": [
    {
      "cell_type": "code",
      "execution_count": 1,
      "metadata": {
        "colab": {
          "base_uri": "https://localhost:8080/"
        },
        "id": "JSXeeQlyp1bo",
        "outputId": "d09582b0-cb9a-4dcd-88a6-447c1f7b6fff"
      },
      "outputs": [
        {
          "output_type": "stream",
          "name": "stdout",
          "text": [
            "SP: 37.53%\n",
            "RJ: 20.29%\n",
            "MG: 16.17%\n",
            "ES: 15.03%\n",
            "Outros: 10.98%\n"
          ]
        }
      ],
      "source": [
        "faturamento = {\n",
        "    'SP': 67836.43,\n",
        "    'RJ': 36678.66,\n",
        "    'MG': 29229.88,\n",
        "    'ES': 27165.48,\n",
        "    'Outros': 19849.53\n",
        "}\n",
        "\n",
        "total_faturamento = sum(faturamento.values())\n",
        "\n",
        "for estado, valor in faturamento.items():\n",
        "    percentual = (valor / total_faturamento) * 100\n",
        "    print(f'{estado}: {percentual:.2f}%')\n"
      ]
    },
    {
      "cell_type": "code",
      "source": [],
      "metadata": {
        "id": "GRfLvDj_p2uh"
      },
      "execution_count": null,
      "outputs": []
    }
  ]
}