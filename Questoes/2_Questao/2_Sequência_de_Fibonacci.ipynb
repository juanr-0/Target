{
  "nbformat": 4,
  "nbformat_minor": 0,
  "metadata": {
    "colab": {
      "provenance": []
    },
    "kernelspec": {
      "name": "python3",
      "display_name": "Python 3"
    },
    "language_info": {
      "name": "python"
    }
  },
  "cells": [
    {
      "cell_type": "code",
      "execution_count": 2,
      "metadata": {
        "colab": {
          "base_uri": "https://localhost:8080/"
        },
        "id": "Smz7BGs3cFqH",
        "outputId": "b740b855-b777-4581-88b4-58071cfdd739"
      },
      "outputs": [
        {
          "output_type": "stream",
          "name": "stdout",
          "text": [
            "19 não pertence à sequência de Fibonacci.\n"
          ]
        }
      ],
      "source": [
        "def fibonacci(limite):\n",
        "    fib = [0, 1] # Inicia Fibonacci com os valores de 0 e 1\n",
        "    while fib[-1] < limite: # Calcula os próximos valores da sequência até atingir o limite que sera o numero informado mais na frente no código\n",
        "        fib.append(fib[-1] + fib[-2])\n",
        "    return fib\n",
        "\n",
        "def verifica_fibonacci(numero):     # Função que Calcula a sequência de Fibonacci até o número desejado\n",
        "    seq_fib = fibonacci(numero)\n",
        "    if numero in seq_fib: # Testando se o número informado pertence a sequência\n",
        "        return f\"{numero} pertence à sequência de Fibonacci.\"\n",
        "    else:\n",
        "        return f\"{numero} não pertence à sequência de Fibonacci.\"\n",
        "\n",
        "# Como usar:\n",
        "print(verifica_fibonacci(19)) # Dentro da função passar o argumento do número a ser verificado\n"
      ]
    },
    {
      "cell_type": "code",
      "source": [],
      "metadata": {
        "id": "SHxHdviccIrf"
      },
      "execution_count": null,
      "outputs": []
    }
  ]
}