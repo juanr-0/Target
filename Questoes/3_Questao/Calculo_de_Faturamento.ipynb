{
  "nbformat": 4,
  "nbformat_minor": 0,
  "metadata": {
    "colab": {
      "provenance": []
    },
    "kernelspec": {
      "name": "python3",
      "display_name": "Python 3"
    },
    "language_info": {
      "name": "python"
    }
  },
  "cells": [
    {
      "cell_type": "code",
      "execution_count": 1,
      "metadata": {
        "colab": {
          "base_uri": "https://localhost:8080/"
        },
        "id": "_MWpxt-RmgNA",
        "outputId": "691bb211-076e-4414-fcfc-f06e67e09fb1"
      },
      "outputs": [
        {
          "output_type": "stream",
          "name": "stdout",
          "text": [
            "Menor valor de faturamento: 373.7838\n",
            "Maior valor de faturamento: 48924.2448\n",
            "Dias com faturamento acima da média: 10\n"
          ]
        }
      ],
      "source": [
        "def calcular_faturamento(vetor):\n",
        "    valores = [dia['valor'] for dia in vetor if dia['valor'] > 0] # ignora dias sem faturamento\n",
        "    menor_valor = min(valores)\n",
        "    maior_valor = max(valores)\n",
        "    media = sum(valores) / len(valores)\n",
        "    dias_acima_da_media = len([valor for valor in valores if valor > media])\n",
        "    return menor_valor, maior_valor, dias_acima_da_media\n",
        "\n",
        "# Como usar: Preencher o vetor com os dados\n",
        "vetor = [\n",
        "    {\"dia\": 1, \"valor\": 22174.1664},\n",
        "    {\"dia\": 2, \"valor\": 24537.6698},\n",
        "    {\"dia\": 3, \"valor\": 26139.6134},\n",
        "    {\"dia\": 4, \"valor\": 0.0},\n",
        "    {\"dia\": 5, \"valor\": 0.0},\n",
        "    {\"dia\": 6, \"valor\": 26742.6612},\n",
        "    {\"dia\": 7, \"valor\": 0.0},\n",
        "    {\"dia\": 8, \"valor\": 42889.2258},\n",
        "    {\"dia\": 9, \"valor\": 46251.174},\n",
        "    {\"dia\": 10, \"valor\": 11191.4722},\n",
        "    {\"dia\": 11, \"valor\": 0.0},\n",
        "    {\"dia\": 12, \"valor\": 0.0},\n",
        "    {\"dia\": 13, \"valor\": 3847.4823},\n",
        "    {\"dia\": 14, \"valor\": 373.7838},\n",
        "    {\"dia\": 15, \"valor\": 2659.7563},\n",
        "    {\"dia\": 16, \"valor\": 48924.2448},\n",
        "    {\"dia\": 17, \"valor\": 18419.2614},\n",
        "    {\"dia\": 18, \"valor\": 0.0},\n",
        "    {\"dia\": 19, \"valor\": 0.0},\n",
        "    {\"dia\": 20, \"valor\": 35240.1826},\n",
        "    {\"dia\": 21, \"valor\": 43829.1667},\n",
        "    {\"dia\": 22, \"valor\": 18235.6852},\n",
        "    {\"dia\": 23, \"valor\": 4355.0662},\n",
        "    {\"dia\": 24, \"valor\": 13327.1025},\n",
        "    {\"dia\": 25, \"valor\": 0.0},\n",
        "    {\"dia\": 26, \"valor\": 0.0},\n",
        "    {\"dia\": 27, \"valor\": 25681.8318},\n",
        "    {\"dia\": 28, \"valor\": 1718.1221},\n",
        "    {\"dia\": 29, \"valor\": 13220.495},\n",
        "    {\"dia\": 30, \"valor\": 8414.61}\n",
        "]\n",
        "menor_valor, maior_valor, dias_acima_da_media = calcular_faturamento(vetor)\n",
        "print(f\"Menor valor de faturamento: {menor_valor}\")\n",
        "print(f\"Maior valor de faturamento: {maior_valor}\")\n",
        "print(f\"Dias com faturamento acima da média: {dias_acima_da_media}\")\n"
      ]
    },
    {
      "cell_type": "code",
      "source": [],
      "metadata": {
        "id": "9NwPCNvCm7VL"
      },
      "execution_count": null,
      "outputs": []
    }
  ]
}