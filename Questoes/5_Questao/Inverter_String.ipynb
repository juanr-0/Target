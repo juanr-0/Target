{
  "nbformat": 4,
  "nbformat_minor": 0,
  "metadata": {
    "colab": {
      "provenance": []
    },
    "kernelspec": {
      "name": "python3",
      "display_name": "Python 3"
    },
    "language_info": {
      "name": "python"
    }
  },
  "cells": [
    {
      "cell_type": "code",
      "execution_count": 2,
      "metadata": {
        "colab": {
          "base_uri": "https://localhost:8080/"
        },
        "id": "KbYtFqpHqX86",
        "outputId": "ad0667a4-17fe-4b7d-c788-af5a06e3175a"
      },
      "outputs": [
        {
          "output_type": "stream",
          "name": "stdout",
          "text": [
            "!tegraT olleH\n"
          ]
        }
      ],
      "source": [
        "string = \"Hello Target!\"  # String a ser invertida\n",
        "reverse_string = \"\"  # String invertida, inicialmente vazia\n",
        "\n",
        "# Percorre a string da direita para a esquerda, adicionando cada caractere à nova string invertida\n",
        "for i in range(len(string)-1, -1, -1):\n",
        "    reverse_string += string[i]\n",
        "\n",
        "# Imprime a string invertida\n",
        "print(reverse_string)\n"
      ]
    },
    {
      "cell_type": "code",
      "source": [],
      "metadata": {
        "id": "IyqCOGa5qb-w"
      },
      "execution_count": null,
      "outputs": []
    }
  ]
}